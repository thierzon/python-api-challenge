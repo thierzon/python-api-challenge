{
 "cells": [
  {
   "cell_type": "markdown",
   "metadata": {},
   "source": [
    "# VacationPy\n",
    "----\n",
    "\n",
    "#### Note\n",
    "* Keep an eye on your API usage. Use https://developers.google.com/maps/reporting/gmp-reporting as reference for how to monitor your usage and billing.\n",
    "\n",
    "* Instructions have been included for each segment. You do not have to follow them exactly, but they are included to help you think through the steps."
   ]
  },
  {
   "cell_type": "code",
   "execution_count": 1,
   "metadata": {},
   "outputs": [],
   "source": [
    "# Dependencies and Setup\n",
    "import matplotlib.pyplot as plt\n",
    "import pandas as pd\n",
    "import numpy as np\n",
    "import requests\n",
    "import json\n",
    "import gmaps\n",
    "import os\n",
    "\n",
    "# Import API key\n",
    "from api_keys import g_key"
   ]
  },
  {
   "cell_type": "markdown",
   "metadata": {},
   "source": [
    "### Store Part I results into DataFrame\n",
    "* Load the csv exported in Part I to a DataFrame"
   ]
  },
  {
   "cell_type": "code",
   "execution_count": 2,
   "metadata": {},
   "outputs": [],
   "source": [
    "# import cities data from WeatherPy assignment\n",
    "filename = \"Resources/cities.csv\"\n",
    "cities_data = pd.read_csv(filename)"
   ]
  },
  {
   "cell_type": "markdown",
   "metadata": {},
   "source": [
    "### Humidity Heatmap\n",
    "* Configure gmaps.\n",
    "* Use the Lat and Lng as locations and Humidity as the weight.\n",
    "* Add Heatmap layer to map."
   ]
  },
  {
   "cell_type": "code",
   "execution_count": 3,
   "metadata": {},
   "outputs": [
    {
     "output_type": "display_data",
     "data": {
      "text/plain": "Figure(layout=FigureLayout(height='420px'))",
      "application/vnd.jupyter.widget-view+json": {
       "version_major": 2,
       "version_minor": 0,
       "model_id": "3856b3043816467ab4506ad6573286c8"
      }
     },
     "metadata": {}
    }
   ],
   "source": [
    "# Configure gmaps\n",
    "gmaps.configure(api_key=g_key)\n",
    "\n",
    "# plot humidity heatmap\n",
    "fig = gmaps.figure(map_type=\"HYBRID\")\n",
    "\n",
    "# create input data for heatmap\n",
    "locations = cities_data[[\"latitude\", \"longitude\"]]\n",
    "humidity = cities_data[\"humidity\"]\n",
    "\n",
    "# create heat layer\n",
    "heat_layer = gmaps.heatmap_layer(\n",
    "    locations, \n",
    "    weights=humidity, \n",
    "    dissipating=False, \n",
    "    max_intensity=250, \n",
    "    point_radius=3\n",
    ")\n",
    "\n",
    "# add layer\n",
    "fig.add_layer(heat_layer)\n",
    "\n",
    "# display figure\n",
    "fig"
   ]
  },
  {
   "cell_type": "markdown",
   "metadata": {},
   "source": [
    "### Create new DataFrame fitting weather criteria\n",
    "* Narrow down the cities to fit weather conditions.\n",
    "* Drop any rows will null values."
   ]
  },
  {
   "cell_type": "code",
   "execution_count": 55,
   "metadata": {},
   "outputs": [],
   "source": [
    "# filter cities dataset to maximum 10 cities based on weather\n",
    "cities_filter1 = cities_data.loc[(cities_data[\"temperature\"] >= 60) & (cities_data[\"temperature\"] <= 80)]\n",
    "cities_filter2 = cities_filter1.loc[cities_filter1[\"humidity\"] < 30]\n",
    "cities_filter3 = cities_filter2.loc[cities_filter2[\"cloudiness\"] <= 20]\n",
    "cities_filter = cities_filter3"
   ]
  },
  {
   "cell_type": "markdown",
   "metadata": {},
   "source": [
    "### Hotel Map\n",
    "* Store into variable named `hotel_df`.\n",
    "* Add a \"Hotel Name\" column to the DataFrame.\n",
    "* Set parameters to search for hotels with 5000 meters.\n",
    "* Hit the Google Places API for each city's coordinates.\n",
    "* Store the first Hotel result into the DataFrame.\n",
    "* Plot markers on top of the heatmap."
   ]
  },
  {
   "cell_type": "code",
   "execution_count": 57,
   "metadata": {
    "tags": []
   },
   "outputs": [],
   "source": [
    "# store into variable named hotel_df\n",
    "hotel_df = cities_filter\n",
    "\n",
    "# add a \"hotel name\" column to hotel_df\n",
    "hotel_df[\"hotel name\"] = \"\"\n",
    "\n",
    "# set params dictionary to update each iteration\n",
    "params = {\n",
    "    \"radius\": 5000,\n",
    "    \"type\": \"lodging\",\n",
    "    \"key\": g_key\n",
    "}\n",
    "\n",
    "# Use the lat/lng to find hotels\n",
    "for index, row in hotel_df.iterrows():\n",
    "    # get lat, lng from df\n",
    "    lat = row[\"latitude\"]\n",
    "    lng = row[\"longitude\"]\n",
    "\n",
    "    # change location each iteration while leaving original params in place\n",
    "    params[\"location\"] = f\"{lat},{lng}\"\n",
    "\n",
    "    # base url\n",
    "    base_url = \"https://maps.googleapis.com/maps/api/place/nearbysearch/json\"\n",
    "\n",
    "    # run a request using our params dictionary\n",
    "    response = requests.get(base_url, params=params)\n",
    "    data = response.json()\n",
    "\n",
    "    # store hotel name in hotel_df\n",
    "    try:\n",
    "        hotel_df.loc[index, \"hotel name\"] = data[\"results\"][0][\"name\"]\n",
    "    except (KeyError, IndexError):\n",
    "        print(\"Information not found... skipping.\")\n",
    "\n"
   ]
  },
  {
   "cell_type": "code",
   "execution_count": 58,
   "metadata": {},
   "outputs": [
    {
     "output_type": "execute_result",
     "data": {
      "text/plain": [
       "             city  latitude  longitude  temperature  humidity  cloudiness  \\\n",
       "220       chalala   21.4167    71.1667        79.92        15           0   \n",
       "222        dahanu   19.9667    72.7333        78.84        29           0   \n",
       "226         dumka   24.2667    87.2500        76.77        23           0   \n",
       "233      nalagarh   31.0500    76.7167        68.20        28           0   \n",
       "236         pauri   30.1500    78.7833        62.82        27           0   \n",
       "244       sitamau   24.0167    75.3500        69.22        24           0   \n",
       "380          chor   25.5167    69.7667        74.68        16           0   \n",
       "381       lodhran   29.5405    71.6336        72.90        17           0   \n",
       "383  tandlianwala   31.0333    73.1333        70.20        20           0   \n",
       "516        hobart  -42.8794   147.3294        66.20        26           0   \n",
       "\n",
       "     wind speed country        date                               hotel name  \n",
       "220        9.62      IN  1611644456                        Radhe guest house  \n",
       "222       10.96      IN  1611644456                    Pearline Beach Villas  \n",
       "226        8.77      IN  1611644457  Hotel Shashwat , Sri Shyam Plaza ,Dumka  \n",
       "233        6.11      IN  1611644458                            Fort Nalagarh  \n",
       "236        5.19      IN  1611644459                            Jatra Heights  \n",
       "244        8.70      IN  1611644460                              Hotel Kisna  \n",
       "380        3.47      PK  1611644485                      Asad U Bajeer Hotel  \n",
       "381        6.67      PK  1611644485                         Gulshan e khalil  \n",
       "383        5.28      PK  1611644485                   Mani cloth center home  \n",
       "516       21.85      AU  1611644404    St Ives Hobart Accommodation Tasmania  "
      ],
      "text/html": "<div>\n<style scoped>\n    .dataframe tbody tr th:only-of-type {\n        vertical-align: middle;\n    }\n\n    .dataframe tbody tr th {\n        vertical-align: top;\n    }\n\n    .dataframe thead th {\n        text-align: right;\n    }\n</style>\n<table border=\"1\" class=\"dataframe\">\n  <thead>\n    <tr style=\"text-align: right;\">\n      <th></th>\n      <th>city</th>\n      <th>latitude</th>\n      <th>longitude</th>\n      <th>temperature</th>\n      <th>humidity</th>\n      <th>cloudiness</th>\n      <th>wind speed</th>\n      <th>country</th>\n      <th>date</th>\n      <th>hotel name</th>\n    </tr>\n  </thead>\n  <tbody>\n    <tr>\n      <th>220</th>\n      <td>chalala</td>\n      <td>21.4167</td>\n      <td>71.1667</td>\n      <td>79.92</td>\n      <td>15</td>\n      <td>0</td>\n      <td>9.62</td>\n      <td>IN</td>\n      <td>1611644456</td>\n      <td>Radhe guest house</td>\n    </tr>\n    <tr>\n      <th>222</th>\n      <td>dahanu</td>\n      <td>19.9667</td>\n      <td>72.7333</td>\n      <td>78.84</td>\n      <td>29</td>\n      <td>0</td>\n      <td>10.96</td>\n      <td>IN</td>\n      <td>1611644456</td>\n      <td>Pearline Beach Villas</td>\n    </tr>\n    <tr>\n      <th>226</th>\n      <td>dumka</td>\n      <td>24.2667</td>\n      <td>87.2500</td>\n      <td>76.77</td>\n      <td>23</td>\n      <td>0</td>\n      <td>8.77</td>\n      <td>IN</td>\n      <td>1611644457</td>\n      <td>Hotel Shashwat , Sri Shyam Plaza ,Dumka</td>\n    </tr>\n    <tr>\n      <th>233</th>\n      <td>nalagarh</td>\n      <td>31.0500</td>\n      <td>76.7167</td>\n      <td>68.20</td>\n      <td>28</td>\n      <td>0</td>\n      <td>6.11</td>\n      <td>IN</td>\n      <td>1611644458</td>\n      <td>Fort Nalagarh</td>\n    </tr>\n    <tr>\n      <th>236</th>\n      <td>pauri</td>\n      <td>30.1500</td>\n      <td>78.7833</td>\n      <td>62.82</td>\n      <td>27</td>\n      <td>0</td>\n      <td>5.19</td>\n      <td>IN</td>\n      <td>1611644459</td>\n      <td>Jatra Heights</td>\n    </tr>\n    <tr>\n      <th>244</th>\n      <td>sitamau</td>\n      <td>24.0167</td>\n      <td>75.3500</td>\n      <td>69.22</td>\n      <td>24</td>\n      <td>0</td>\n      <td>8.70</td>\n      <td>IN</td>\n      <td>1611644460</td>\n      <td>Hotel Kisna</td>\n    </tr>\n    <tr>\n      <th>380</th>\n      <td>chor</td>\n      <td>25.5167</td>\n      <td>69.7667</td>\n      <td>74.68</td>\n      <td>16</td>\n      <td>0</td>\n      <td>3.47</td>\n      <td>PK</td>\n      <td>1611644485</td>\n      <td>Asad U Bajeer Hotel</td>\n    </tr>\n    <tr>\n      <th>381</th>\n      <td>lodhran</td>\n      <td>29.5405</td>\n      <td>71.6336</td>\n      <td>72.90</td>\n      <td>17</td>\n      <td>0</td>\n      <td>6.67</td>\n      <td>PK</td>\n      <td>1611644485</td>\n      <td>Gulshan e khalil</td>\n    </tr>\n    <tr>\n      <th>383</th>\n      <td>tandlianwala</td>\n      <td>31.0333</td>\n      <td>73.1333</td>\n      <td>70.20</td>\n      <td>20</td>\n      <td>0</td>\n      <td>5.28</td>\n      <td>PK</td>\n      <td>1611644485</td>\n      <td>Mani cloth center home</td>\n    </tr>\n    <tr>\n      <th>516</th>\n      <td>hobart</td>\n      <td>-42.8794</td>\n      <td>147.3294</td>\n      <td>66.20</td>\n      <td>26</td>\n      <td>0</td>\n      <td>21.85</td>\n      <td>AU</td>\n      <td>1611644404</td>\n      <td>St Ives Hobart Accommodation Tasmania</td>\n    </tr>\n  </tbody>\n</table>\n</div>"
     },
     "metadata": {},
     "execution_count": 58
    }
   ],
   "source": [
    "hotel_df"
   ]
  },
  {
   "cell_type": "code",
   "execution_count": 59,
   "metadata": {},
   "outputs": [],
   "source": [
    "# NOTE: Do not change any of the code in this cell\n",
    "\n",
    "# Using the template add the hotel marks to the heatmap\n",
    "info_box_template = \"\"\"\n",
    "<dl>\n",
    "<dt>Name</dt><dd>{hotel name}</dd>\n",
    "<dt>City</dt><dd>{city}</dd>\n",
    "<dt>Country</dt><dd>{country}</dd>\n",
    "</dl>\n",
    "\"\"\"\n",
    "# Store the DataFrame Row\n",
    "# NOTE: be sure to update with your DataFrame name\n",
    "hotel_info = [info_box_template.format(**row) for index, row in hotel_df.iterrows()]\n",
    "locations = hotel_df[[\"latitude\", \"longitude\"]]"
   ]
  },
  {
   "cell_type": "code",
   "execution_count": 60,
   "metadata": {},
   "outputs": [
    {
     "output_type": "display_data",
     "data": {
      "text/plain": "Figure(layout=FigureLayout(height='420px'))",
      "application/vnd.jupyter.widget-view+json": {
       "version_major": 2,
       "version_minor": 0,
       "model_id": "3856b3043816467ab4506ad6573286c8"
      }
     },
     "metadata": {}
    }
   ],
   "source": [
    "# Add marker layer ontop of heat map\n",
    "hotel_layer = gmaps.marker_layer(\n",
    "    locations, info_box_content=hotel_info\n",
    ")\n",
    "\n",
    "# add layer\n",
    "fig.add_layer(hotel_layer)\n",
    "\n",
    "# display figure\n",
    "fig"
   ]
  },
  {
   "cell_type": "code",
   "execution_count": null,
   "metadata": {},
   "outputs": [],
   "source": []
  }
 ],
 "metadata": {
  "kernelspec": {
   "name": "python3",
   "display_name": "Python 3.6.10 64-bit ('PythonData': conda)",
   "metadata": {
    "interpreter": {
     "hash": "cebc611b574370b56281b1eed2ebeeb5a0b0baf3a91027419d49730529808172"
    }
   }
  },
  "language_info": {
   "codemirror_mode": {
    "name": "ipython",
    "version": 3
   },
   "file_extension": ".py",
   "mimetype": "text/x-python",
   "name": "python",
   "nbconvert_exporter": "python",
   "pygments_lexer": "ipython3",
   "version": "3.6.10-final"
  },
  "latex_envs": {
   "LaTeX_envs_menu_present": true,
   "autoclose": false,
   "autocomplete": true,
   "bibliofile": "biblio.bib",
   "cite_by": "apalike",
   "current_citInitial": 1,
   "eqLabelWithNumbers": true,
   "eqNumInitial": 1,
   "hotkeys": {
    "equation": "Ctrl-E",
    "itemize": "Ctrl-I"
   },
   "labels_anchors": false,
   "latex_user_defs": false,
   "report_style_numbering": false,
   "user_envs_cfg": false
  }
 },
 "nbformat": 4,
 "nbformat_minor": 4
}